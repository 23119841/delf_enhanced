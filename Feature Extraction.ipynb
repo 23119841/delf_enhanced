{
 "cells": [
  {
   "cell_type": "markdown",
   "metadata": {},
   "source": [
    "# Resize image directory\n",
    "\n",
    "* NOTE: nvlib is not publicaly available. Please find another way to achieve the resizing task"
   ]
  },
  {
   "cell_type": "markdown",
   "metadata": {},
   "source": [
    "## Extract Features of Oxford 5k Dataset"
   ]
  },
  {
   "cell_type": "code",
   "execution_count": null,
   "metadata": {
    "scrolled": true
   },
   "outputs": [],
   "source": [
    "%load_ext autoreload\n",
    "%autoreload 2\n",
    "\n",
    "import tensorflow as tf\n",
    "from delf.examples import extract_features\n",
    "import os \n",
    "\n",
    "\n",
    "# Read list of images.\n",
    "IMAGE_DIR = \"./oxf5k_images\"\n",
    "config_path = './delf/examples/delf_config_example.pbtxt'\n",
    "output_dir = \"./oxf5k_delf\"\n",
    "\n",
    "image_list_path = \"./image_list_path.txt\"\n",
    "with open(image_list_path, \"w\") as f:\n",
    "    count =0 \n",
    "    for filename in os.listdir(IMAGE_DIR):\n",
    "        # print(filename)\n",
    "        count += 1\n",
    "        f.write(os.path.join(IMAGE_DIR, filename)+\"\\n\")\n",
    "    print(\"total image:\", count)\n",
    "\n",
    "# tf.logging.info('Reading list of images...')\n",
    "# image_paths = extract_features._ReadImageList(image_list_path)  \n",
    "\n",
    "# extract_features.batch_get_feature(image_paths, config_path, output_dir)"
   ]
  },
  {
   "cell_type": "markdown",
   "metadata": {},
   "source": [
    "## Extract Features of Google Landmarks Dataset"
   ]
  },
  {
   "cell_type": "code",
   "execution_count": null,
   "metadata": {
    "scrolled": true
   },
   "outputs": [],
   "source": [
    "%load_ext autoreload\n",
    "%autoreload 2\n",
    "DATA_DIR = \"./google_landmark/index\"\n",
    "OUTPUT_DIR = \"./google_landmark/index_resize_800px\"\n",
    "from nvlib.io import resize_image_direcotry\n",
    "resize_image_direcotry(DATA_DIR, OUTPUT_DIR, verbose=True)"
   ]
  },
  {
   "cell_type": "code",
   "execution_count": null,
   "metadata": {},
   "outputs": [],
   "source": [
    "DATA_DIR = \"./google_landmark/test\"\n",
    "OUTPUT_DIR = \"./google_landmark/test_resize_800px\"\n",
    "from nvlib.io import resize_image_direcotry\n",
    "resize_image_direcotry(DATA_DIR, OUTPUT_DIR, verbose=True)"
   ]
  },
  {
   "cell_type": "code",
   "execution_count": null,
   "metadata": {},
   "outputs": [],
   "source": [
    "from tensorflow.python.client import device_lib\n",
    "print(device_lib.list_local_devices())"
   ]
  },
  {
   "cell_type": "code",
   "execution_count": null,
   "metadata": {
    "scrolled": true
   },
   "outputs": [],
   "source": [
    "# Read list of images.\n",
    "IMAGE_DIR = \"./google_landmark/index_small\" # additional image that is missing in index.tgz\n",
    "# IMAGE_DIR = \"./google_landmark/index_resize_800px\"\n",
    "# IMAGE_DIR = \"./google_landmark/test_resize_800px\"\n",
    "config_path = './delf/examples/delf_config_example.pbtxt'\n",
    "output_dir = \"./google_landmark/index_delf\"\n",
    "\n",
    "image_list_path = \"./image_list_path_delf_index.txt\"\n",
    "with open(image_list_path, \"w\") as f:\n",
    "    count =0 \n",
    "    for filename in os.listdir(IMAGE_DIR):\n",
    "        # print(filename)\n",
    "        count += 1\n",
    "        f.write(os.path.join(IMAGE_DIR, filename)+\"\\n\")\n",
    "    print(\"total image:\", count)\n",
    "\n",
    "tf.logging.info('Reading list of images...')\n",
    "image_paths = extract_features._ReadImageList(image_list_path)  \n",
    "\n",
    "extract_features.batch_get_feature(image_paths, config_path, output_dir)\n",
    "\n",
    "# Is it utlizing full multi-gpu?"
   ]
  },
  {
   "cell_type": "code",
   "execution_count": null,
   "metadata": {},
   "outputs": [],
   "source": [
    "# Read list of images.\n",
    "IMAGE_DIR = \"./google_landmark/test_resize_800px\"\n",
    "config_path = './delf/examples/delf_config_example.pbtxt'\n",
    "output_dir = \"./google_landmark/test_delf\"\n",
    "\n",
    "image_list_path = \"./image_list_path_test.txt\"\n",
    "with open(image_list_path, \"w\") as f:\n",
    "    count =0 \n",
    "    for filename in os.listdir(IMAGE_DIR):\n",
    "        # print(filename)\n",
    "        count += 1\n",
    "        f.write(os.path.join(IMAGE_DIR, filename)+\"\\n\")\n",
    "    print(\"total image:\", count)\n",
    "\n",
    "tf.logging.info('Reading list of images...')\n",
    "image_paths = extract_features._ReadImageList(image_list_path)  \n",
    "\n",
    "extract_features.batch_get_feature(image_paths, config_path, output_dir)"
   ]
  },
  {
   "cell_type": "markdown",
   "metadata": {},
   "source": [
    "# Parse and visualize local descriptros"
   ]
  },
  {
   "cell_type": "code",
   "execution_count": null,
   "metadata": {},
   "outputs": [],
   "source": []
  }
 ],
 "metadata": {
  "kernelspec": {
   "display_name": "tf1.3",
   "language": "python",
   "name": "tf1.3"
  },
  "language_info": {
   "codemirror_mode": {
    "name": "ipython",
    "version": 3
   },
   "file_extension": ".py",
   "mimetype": "text/x-python",
   "name": "python",
   "nbconvert_exporter": "python",
   "pygments_lexer": "ipython3",
   "version": "3.6.4"
  }
 },
 "nbformat": 4,
 "nbformat_minor": 2
}
