{
 "cells": [
  {
   "cell_type": "code",
   "execution_count": 16,
   "metadata": {},
   "outputs": [
    {
     "name": "stdout",
     "output_type": "stream",
     "text": [
      "total image: 5063\n",
      "INFO:tensorflow:Reading list of images...\n",
      "INFO:tensorflow:done! Found 5063 images\n",
      "INFO:tensorflow:Restoring parameters from b'parameters/delf_v1_20171026/model/variables/variables'\n",
      "INFO:tensorflow:Starting to extract DELF features from images...\n",
      "INFO:tensorflow:Processing image 100 out of 5063, last 100 images took 58.590294 seconds\n",
      "INFO:tensorflow:Processing image 200 out of 5063, last 100 images took 62.267044 seconds\n",
      "INFO:tensorflow:Processing image 300 out of 5063, last 100 images took 54.688374 seconds\n",
      "INFO:tensorflow:Processing image 400 out of 5063, last 100 images took 42.726795 seconds\n",
      "INFO:tensorflow:Processing image 500 out of 5063, last 100 images took 44.471639 seconds\n",
      "INFO:tensorflow:Processing image 600 out of 5063, last 100 images took 46.263033 seconds\n",
      "INFO:tensorflow:Processing image 700 out of 5063, last 100 images took 42.438110 seconds\n",
      "INFO:tensorflow:Processing image 800 out of 5063, last 100 images took 40.694019 seconds\n",
      "INFO:tensorflow:Processing image 900 out of 5063, last 100 images took 40.970733 seconds\n",
      "INFO:tensorflow:Processing image 1000 out of 5063, last 100 images took 40.459243 seconds\n",
      "INFO:tensorflow:Processing image 1100 out of 5063, last 100 images took 40.365423 seconds\n",
      "INFO:tensorflow:Processing image 1200 out of 5063, last 100 images took 42.353103 seconds\n",
      "INFO:tensorflow:Processing image 1300 out of 5063, last 100 images took 43.223084 seconds\n",
      "INFO:tensorflow:Processing image 1400 out of 5063, last 100 images took 41.507804 seconds\n",
      "INFO:tensorflow:Processing image 1500 out of 5063, last 100 images took 40.142873 seconds\n",
      "INFO:tensorflow:Processing image 1600 out of 5063, last 100 images took 44.136723 seconds\n",
      "INFO:tensorflow:Processing image 1700 out of 5063, last 100 images took 39.939774 seconds\n",
      "INFO:tensorflow:Processing image 1800 out of 5063, last 100 images took 38.197148 seconds\n",
      "INFO:tensorflow:Processing image 1900 out of 5063, last 100 images took 36.694185 seconds\n",
      "INFO:tensorflow:Processing image 2000 out of 5063, last 100 images took 37.480958 seconds\n",
      "INFO:tensorflow:Processing image 2100 out of 5063, last 100 images took 39.848186 seconds\n",
      "INFO:tensorflow:Processing image 2200 out of 5063, last 100 images took 40.231368 seconds\n",
      "INFO:tensorflow:Processing image 2300 out of 5063, last 100 images took 38.706582 seconds\n",
      "INFO:tensorflow:Processing image 2400 out of 5063, last 100 images took 39.907574 seconds\n",
      "INFO:tensorflow:Processing image 2500 out of 5063, last 100 images took 36.660656 seconds\n",
      "INFO:tensorflow:Processing image 2600 out of 5063, last 100 images took 37.213515 seconds\n",
      "INFO:tensorflow:Processing image 2700 out of 5063, last 100 images took 37.959713 seconds\n",
      "INFO:tensorflow:Processing image 2800 out of 5063, last 100 images took 38.487661 seconds\n",
      "INFO:tensorflow:Processing image 2900 out of 5063, last 100 images took 38.805009 seconds\n",
      "INFO:tensorflow:Processing image 3000 out of 5063, last 100 images took 39.509790 seconds\n",
      "INFO:tensorflow:Processing image 3100 out of 5063, last 100 images took 38.749714 seconds\n",
      "INFO:tensorflow:Processing image 3200 out of 5063, last 100 images took 38.378189 seconds\n",
      "INFO:tensorflow:Processing image 3300 out of 5063, last 100 images took 36.356920 seconds\n",
      "INFO:tensorflow:Processing image 3400 out of 5063, last 100 images took 38.062014 seconds\n",
      "INFO:tensorflow:Processing image 3500 out of 5063, last 100 images took 36.817665 seconds\n",
      "INFO:tensorflow:Processing image 3600 out of 5063, last 100 images took 37.846554 seconds\n",
      "INFO:tensorflow:Processing image 3700 out of 5063, last 100 images took 36.672542 seconds\n",
      "INFO:tensorflow:Processing image 3800 out of 5063, last 100 images took 36.167326 seconds\n",
      "INFO:tensorflow:Processing image 3900 out of 5063, last 100 images took 37.363881 seconds\n",
      "INFO:tensorflow:Processing image 4000 out of 5063, last 100 images took 38.028156 seconds\n",
      "INFO:tensorflow:Processing image 4100 out of 5063, last 100 images took 36.235609 seconds\n",
      "INFO:tensorflow:Processing image 4200 out of 5063, last 100 images took 38.198914 seconds\n",
      "INFO:tensorflow:Processing image 4300 out of 5063, last 100 images took 36.701203 seconds\n",
      "INFO:tensorflow:Processing image 4400 out of 5063, last 100 images took 38.040493 seconds\n",
      "INFO:tensorflow:Processing image 4500 out of 5063, last 100 images took 36.671040 seconds\n",
      "INFO:tensorflow:Processing image 4600 out of 5063, last 100 images took 38.009118 seconds\n",
      "INFO:tensorflow:Processing image 4700 out of 5063, last 100 images took 40.468773 seconds\n",
      "INFO:tensorflow:Processing image 4800 out of 5063, last 100 images took 39.489170 seconds\n",
      "INFO:tensorflow:Processing image 4900 out of 5063, last 100 images took 36.202557 seconds\n",
      "INFO:tensorflow:Processing image 5000 out of 5063, last 100 images took 36.218159 seconds\n"
     ]
    }
   ],
   "source": [
    "%load_ext autoreload\n",
    "%autoreload 2\n",
    "\n",
    "import tensorflow as tf\n",
    "from delf.examples import extract_features\n",
    "from PIL import Image\n",
    "import os \n",
    "\n",
    "\n",
    "# Read list of images.\n",
    "IMAGE_DIR = \"./oxf5k_images\"\n",
    "config_path = './delf/examples/delf_config_example.pbtxt'\n",
    "output_dir = \"./oxf5k_delf\"\n",
    "\n",
    "image_list_path = \"./image_list_path.txt\"\n",
    "with open(image_list_path, \"w\") as f:\n",
    "    count =0 \n",
    "    for filename in os.listdir(IMAGE_DIR):\n",
    "        # print(filename)\n",
    "        count += 1\n",
    "        f.write(os.path.join(IMAGE_DIR, filename)+\"\\n\")\n",
    "    print(\"total image:\", count)\n",
    "\n",
    "tf.logging.info('Reading list of images...')\n",
    "image_paths = extract_features._ReadImageList(image_list_path)  \n",
    "\n",
    "extract_features.batch_get_feature(image_paths, config_path, output_dir)"
   ]
  },
  {
   "cell_type": "markdown",
   "metadata": {},
   "source": [
    "# Parse and visualize local descriptros"
   ]
  },
  {
   "cell_type": "code",
   "execution_count": null,
   "metadata": {},
   "outputs": [],
   "source": []
  }
 ],
 "metadata": {
  "kernelspec": {
   "display_name": "tf1.3_global",
   "language": "python",
   "name": "tf1.3_global"
  },
  "language_info": {
   "codemirror_mode": {
    "name": "ipython",
    "version": 3
   },
   "file_extension": ".py",
   "mimetype": "text/x-python",
   "name": "python",
   "nbconvert_exporter": "python",
   "pygments_lexer": "ipython3",
   "version": "3.5.2"
  }
 },
 "nbformat": 4,
 "nbformat_minor": 2
}
